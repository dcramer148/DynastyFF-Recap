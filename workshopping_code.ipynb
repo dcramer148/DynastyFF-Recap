{
 "cells": [
  {
   "cell_type": "code",
   "execution_count": 1,
   "id": "5bb201fe",
   "metadata": {},
   "outputs": [],
   "source": [
    "#This workbook is just for development and trying things out"
   ]
  },
  {
   "cell_type": "code",
   "execution_count": 5,
   "id": "b4394b00",
   "metadata": {},
   "outputs": [
    {
     "name": "stdout",
     "output_type": "stream",
     "text": [
      "Requirement already satisfied: requests in c:\\anaconda\\lib\\site-packages (2.28.1)\n",
      "Requirement already satisfied: idna<4,>=2.5 in c:\\anaconda\\lib\\site-packages (from requests) (2.10)\n",
      "Requirement already satisfied: urllib3<1.27,>=1.21.1 in c:\\anaconda\\lib\\site-packages (from requests) (1.26.11)\n",
      "Requirement already satisfied: certifi>=2017.4.17 in c:\\anaconda\\lib\\site-packages (from requests) (2022.9.14)\n",
      "Requirement already satisfied: charset-normalizer<3,>=2 in c:\\anaconda\\lib\\site-packages (from requests) (2.0.4)\n",
      "Note: you may need to restart the kernel to use updated packages.\n"
     ]
    }
   ],
   "source": [
    "pip install requests"
   ]
  },
  {
   "cell_type": "code",
   "execution_count": 7,
   "id": "1e73fe63",
   "metadata": {},
   "outputs": [
    {
     "name": "stdout",
     "output_type": "stream",
     "text": [
      "Status Code: 200\n",
      "Response Body: {'name': 'Midseasonform', 'status': 'in_season', 'metadata': {'auto_continue': 'on', 'keeper_deadline': '0', 'latest_league_winner_roster_id': '2'}, 'settings': {'best_ball': 0, 'waiver_budget': 100, 'disable_adds': 0, 'capacity_override': 0, 'waiver_bid_min': 0, 'taxi_deadline': 4, 'draft_rounds': 4, 'reserve_allow_na': 0, 'start_week': 1, 'playoff_seed_type': 0, 'playoff_teams': 6, 'veto_votes_needed': 5, 'num_teams': 10, 'daily_waivers_hour': 0, 'playoff_type': 0, 'taxi_slots': 4, 'sub_start_time_eligibility': 1, 'daily_waivers_days': 5461, 'sub_lock_if_starter_active': 0, 'playoff_week_start': 15, 'waiver_clear_days': 2, 'reserve_allow_doubtful': 0, 'commissioner_direct_invite': 0, 'veto_auto_poll': 1, 'reserve_allow_dnr': 0, 'taxi_allow_vets': 0, 'waiver_day_of_week': 0, 'playoff_round_type': 0, 'reserve_allow_out': 0, 'reserve_allow_sus': 0, 'veto_show_votes': 0, 'trade_deadline': 11, 'taxi_years': 1, 'daily_waivers': 1, 'faab_suggestions': 0, 'disable_trades': 0, 'pick_trading': 1, 'type': 2, 'max_keepers': 1, 'waiver_type': 2, 'max_subs': 1, 'league_average_match': 0, 'trade_review_days': 1, 'bench_lock': 0, 'offseason_adds': 1, 'leg': 1, 'reserve_slots': 3, 'reserve_allow_cov': 0, 'daily_waivers_last_ran': 20}, 'avatar': None, 'company_id': None, 'shard': 927, 'season': '2025', 'season_type': 'regular', 'sport': 'nfl', 'scoring_settings': {'sack': 1.0, 'qb_hit': 0.0, 'fgm_40_49': 4.0, 'bonus_rec_te': 0.0, 'fgm_yds': 0.0, 'def_forced_punts': 0.0, 'bonus_rec_yd_100': 0.0, 'bonus_rush_yd_100': 0.0, 'pass_int': -2.0, 'fgmiss_50p': 0.0, 'pts_allow_0': 5.0, 'bonus_pass_yd_400': 0.0, 'pass_2pt': 2.0, 'rec_0_4': 0.0, 'yds_allow_450_499': -5.0, 'blk_kick_ret_yd': 0.0, 'st_td': 6.0, 'def_pr_yd': 0.0, 'rec_30_39': 0.0, 'sack_yd': 0.0, 'fgm_yds_over_30': 0.0, 'rec_td': 6.0, 'yds_allow_400_449': -3.0, 'tkl_ast': 0.0, 'rec_20_29': 0.0, 'fgm_30_39': 3.0, 'xpmiss': -1.0, 'rush_td_50p': 0.0, 'rush_td': 6.0, 'def_kr_yd': 0.0, 'bonus_fd_wr': 0.0, 'pts_allow': 0.0, 'def_4_and_stop': 0.0, 'fg_ret_yd': 0.0, 'yds_allow_550p': -7.0, 'pass_td_40p': 0.0, 'def_st_tkl_solo': 0.0, 'yds_allow_350_399': -1.0, 'fgm': 0.0, 'idp_sack_yd': 0.0, 'bonus_rush_rec_yd_100': 0.0, 'rec_2pt': 2.0, 'bonus_pass_cmp_25': 0.0, 'rush_fd': 0.0, 'pass_int_td': 0.0, 'int_ret_yd': 0.0, 'pass_att': 0.0, 'st_fum_rec': 1.0, 'fgmiss': -1.0, 'bonus_def_fum_td_50p': 0.0, 'ff': 1.0, 'bonus_sack_2p': 0.0, 'fgmiss_30_39': 0.0, 'rec': 1.0, 'yds_allow_200_299': 2.0, 'pts_allow_14_20': 1.0, 'def_2pt': 0.0, 'fgm_0_19': 3.0, 'idp_pass_def_3p': 0.0, 'int': 2.0, 'def_st_fum_rec': 1.0, 'fum_lost': -2.0, 'pts_allow_1_6': 4.0, 'rec_fd': 0.0, 'kr_yd': 0.0, 'fgmiss_20_29': 0.0, 'rush_att': 0.0, 'st_tkl_solo': 0.0, 'yds_allow': 0.0, 'rec_5_9': 0.0, 'fgm_20_29': 3.0, 'yds_allow_500_549': -6.0, 'pts_allow_21_27': 0.0, 'bonus_rec_wr': 0.0, 'bonus_pass_yd_300': 0.0, 'xpm': 1.0, 'pass_td_50p': 0.0, 'pass_sack': 0.0, 'rec_40p': 0.0, 'def_3_and_out': 0.0, 'fgmiss_0_19': 0.0, 'pass_cmp': 0.0, 'tkl_loss': 0.0, 'rush_2pt': 2.0, 'def_pass_def': 0.0, 'yds_allow_300_349': 0.0, 'fum_rec': 2.0, 'rec_10_19': 0.0, 'bonus_rec_yd_200': 0.0, 'def_st_td': 6.0, 'tkl': 0.0, 'pass_cmp_40p': 0.0, 'fgm_50p': 5.0, 'bonus_tkl_10p': 0.0, 'def_td': 6.0, 'pass_fd': 0.0, 'rec_td_40p': 0.0, 'bonus_rush_yd_200': 0.0, 'safe': 2.0, 'pass_yd': 0.04, 'fgmiss_40_49': 0.0, 'rec_td_50p': 0.0, 'blk_kick': 2.0, 'pass_td': 4.0, 'tkl_solo': 0.0, 'bonus_rush_att_20': 0.0, 'yds_allow_100_199': 3.0, 'bonus_def_int_td_50p': 0.0, 'bonus_fd_qb': 0.0, 'rush_yd': 0.1, 'yds_allow_0_100': 5.0, 'bonus_rec_rb': 0.0, 'rush_40p': 0.0, 'pr_yd': 0.0, 'fum': 0.0, 'pts_allow_28_34': -1.0, 'pts_allow_35p': -4.0, 'bonus_rush_rec_yd_200': 0.0, 'fum_rec_td': 6.0, 'rec_yd': 0.1, 'rush_td_40p': 0.0, 'bonus_fd_te': 0.0, 'bonus_fd_rb': 0.0, 'fum_ret_yd': 0.0, 'def_st_ff': 1.0, 'pass_inc': 0.0, 'pts_allow_7_13': 3.0, 'st_ff': 1.0}, 'last_message_id': '1239640542887813120', 'last_author_avatar': 'eb19c654a2425f2862251b5511c2e816', 'last_author_display_name': 'Coleeb012', 'last_author_id': '1125144445898387456', 'last_author_is_bot': False, 'last_message_attachment': None, 'last_message_text_map': None, 'last_message_time': 1749915846134, 'last_pinned_message_id': '1239082345110196224', 'draft_id': '1224143313427255296', 'last_read_id': None, 'league_id': '1180280584113598464', 'previous_league_id': '1115499969697456128', 'roster_positions': ['QB', 'RB', 'RB', 'WR', 'WR', 'TE', 'FLEX', 'FLEX', 'FLEX', 'SUPER_FLEX', 'BN', 'BN', 'BN', 'BN', 'BN', 'BN', 'BN', 'BN', 'BN', 'BN', 'BN', 'BN'], 'bracket_id': None, 'bracket_overrides_id': None, 'group_id': None, 'loser_bracket_id': None, 'loser_bracket_overrides_id': None, 'total_rosters': 10}\n"
     ]
    }
   ],
   "source": [
    "# Example GET request\n",
    "import requests\n",
    "\n",
    "response = requests.get('https://api.sleeper.app/v1/league/1180280584113598464')\n",
    "print(f\"Status Code: {response.status_code}\")\n",
    "print(f\"Response Body: {response.json()}\")\n"
   ]
  },
  {
   "cell_type": "code",
   "execution_count": null,
   "id": "d3dfc140",
   "metadata": {},
   "outputs": [],
   "source": []
  }
 ],
 "metadata": {
  "kernelspec": {
   "display_name": "Python 3 (ipykernel)",
   "language": "python",
   "name": "python3"
  },
  "language_info": {
   "codemirror_mode": {
    "name": "ipython",
    "version": 3
   },
   "file_extension": ".py",
   "mimetype": "text/x-python",
   "name": "python",
   "nbconvert_exporter": "python",
   "pygments_lexer": "ipython3",
   "version": "3.9.13"
  }
 },
 "nbformat": 4,
 "nbformat_minor": 5
}
